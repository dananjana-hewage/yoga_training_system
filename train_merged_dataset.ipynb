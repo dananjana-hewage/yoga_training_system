{
 "cells": [
  {
   "cell_type": "markdown",
   "id": "d128a7d4-6d09-4a5b-a5b7-3fd8db522ebc",
   "metadata": {},
   "source": [
    "Importing Libraries"
   ]
  },
  {
   "cell_type": "code",
   "execution_count": 5,
   "id": "8aee3673-c45a-453d-9a59-64fa28f5729f",
   "metadata": {},
   "outputs": [
    {
     "ename": "",
     "evalue": "",
     "output_type": "error",
     "traceback": [
      "\u001b[1;31mRunning cells with 'Python 3.12.7' requires the ipykernel package.\n",
      "\u001b[1;31mRun the following command to install 'ipykernel' into the Python environment. \n",
      "\u001b[1;31mCommand: 'c:/msys64/ucrt64/bin/python.exe -m pip install ipykernel -U --user --force-reinstall'"
     ]
    }
   ],
   "source": [
    "import tensorflow as tf\n",
    "from tensorflow.keras import models, layers\n",
    "import matplotlib.pyplot as plt\n",
    "import pandas as pd\n",
    "import seaborn as sns"
   ]
  },
  {
   "cell_type": "code",
   "execution_count": 6,
   "id": "967c5c9f-c8b4-43ae-8aeb-3354c411cd8b",
   "metadata": {},
   "outputs": [],
   "source": [
    "IMAGE_SIZE = 256\n",
    "BATCH_SIZE = 32"
   ]
  },
  {
   "cell_type": "code",
   "execution_count": null,
   "id": "075518f4-6e15-4ee7-8afe-afdaae0228b3",
   "metadata": {},
   "outputs": [],
   "source": [
    "# Load training dataset\n",
    "training_set = tf.keras.utils.image_dataset_from_directory(\n",
    "    'Merged_Dataset/Train',\n",
    "    batch_size=BATCH_SIZE,\n",
    "    image_size=(IMAGE_SIZE, IMAGE_SIZE),\n",
    "    shuffle=True,\n",
    "    seed=123\n",
    ")\n"
   ]
  },
  {
   "cell_type": "code",
   "execution_count": null,
   "id": "f9cf7715-33ce-4b21-b09f-3a83f91df30f",
   "metadata": {},
   "outputs": [],
   "source": [
    "# Load test dataset\n",
    "test_set = tf.keras.utils.image_dataset_from_directory(\n",
    "    'Merged_Dataset/Test',\n",
    "    batch_size=BATCH_SIZE,\n",
    "    image_size=(IMAGE_SIZE, IMAGE_SIZE),\n",
    "    shuffle=True,\n",
    "    seed=123\n",
    ")"
   ]
  },
  {
   "cell_type": "code",
   "execution_count": null,
   "id": "eeb4ff94-ef7b-4680-94f0-f4775cab2c74",
   "metadata": {},
   "outputs": [],
   "source": [
    "class_names =training_set.class_names\n",
    "class_names"
   ]
  },
  {
   "cell_type": "code",
   "execution_count": null,
   "id": "a04567a7-7d88-47c5-bf8a-ffcf70794d01",
   "metadata": {},
   "outputs": [],
   "source": [
    "class_names =test_set.class_names\n",
    "class_names"
   ]
  },
  {
   "cell_type": "code",
   "execution_count": 24,
   "id": "7c24b57b-8e1f-47f5-8172-ef268cdaa9cf",
   "metadata": {},
   "outputs": [],
   "source": [
    "# Define augmentation and normalization\n",
    "data_augmentation = tf.keras.Sequential([\n",
    "    layers.RandomRotation(0.4),\n",
    "    layers.RandomWidth(0.2),\n",
    "    layers.RandomHeight(0.2),\n",
    "    layers.RandomZoom(0.2),\n",
    "    layers.RandomFlip(\"horizontal\")\n",
    "])"
   ]
  },
  {
   "cell_type": "code",
   "execution_count": 25,
   "id": "52c31ffc-dc76-42a5-96ff-61c8a8d2f882",
   "metadata": {},
   "outputs": [],
   "source": [
    "# Normalization layer\n",
    "resize_and_rescale = tf.keras.Sequential([\n",
    "    layers.Rescaling(1.0 / 255)\n",
    "])\n"
   ]
  },
  {
   "cell_type": "code",
   "execution_count": null,
   "id": "8539d3fa-7467-4b92-989c-8ee2aae66397",
   "metadata": {},
   "outputs": [],
   "source": []
  },
  {
   "cell_type": "code",
   "execution_count": 26,
   "id": "0178c1e8-93fa-48f6-a586-a08a184fbe95",
   "metadata": {},
   "outputs": [],
   "source": [
    "# Apply augmentation to training set, then normalize\n",
    "training_set = training_set.map(lambda x, y: (resize_and_rescale(data_augmentation(x)), y))\n"
   ]
  },
  {
   "cell_type": "code",
   "execution_count": 27,
   "id": "a3567a14-75a3-45f3-bb07-14f024213fda",
   "metadata": {},
   "outputs": [],
   "source": [
    "# Only normalize the test set (no augmentation)\n",
    "test_set = test_set.map(lambda x, y: (resize_and_rescale(x), y))"
   ]
  },
  {
   "cell_type": "code",
   "execution_count": 28,
   "id": "3e978fb2-f340-46c6-a886-f8f10ea025b7",
   "metadata": {},
   "outputs": [],
   "source": [
    "# Prefetching for performance\n",
    "AUTOTUNE = tf.data.AUTOTUNE\n",
    "training_set = training_set.cache().prefetch(buffer_size=AUTOTUNE)\n",
    "test_set = test_set.cache().prefetch(buffer_size=AUTOTUNE)"
   ]
  },
  {
   "cell_type": "code",
   "execution_count": null,
   "id": "8a185d1d-40e5-4daa-96f2-7be46a95ae68",
   "metadata": {},
   "outputs": [],
   "source": [
    "# Plotting a batch of augmented images to verify\n",
    "plt.figure(figsize=(10, 10))\n",
    "for image_batch, label_batch in training_set.take(1):  # Take one batch to display\n",
    "    for i in range(12):\n",
    "        ax = plt.subplot(3, 4, i + 1)\n",
    "        \n",
    "        # Convert back to [0, 255] range for display\n",
    "        img = image_batch[i].numpy() * 255\n",
    "        img = img.astype(\"uint8\")\n",
    "        \n",
    "        plt.imshow(img)\n",
    "        plt.title(\"Class: \" + class_names[label_batch[i].numpy()])\n",
    "        plt.axis(\"off\")\n",
    "plt.show()"
   ]
  },
  {
   "cell_type": "code",
   "execution_count": null,
   "id": "0e7bd273-7bb0-4709-88a3-df7df7ec52b8",
   "metadata": {},
   "outputs": [],
   "source": [
    "# Plotting a batch of test images to verify (without augmentation)\n",
    "plt.figure(figsize=(10, 10))\n",
    "for image_batch, label_batch in test_set.take(1):  # Take one batch to display\n",
    "    for i in range(12):\n",
    "        ax = plt.subplot(3, 4, i + 1)\n",
    "        \n",
    "        # Convert back to [0, 255] range for display\n",
    "        img = image_batch[i].numpy() * 255\n",
    "        img = img.astype(\"uint8\")\n",
    "        \n",
    "        plt.imshow(img)\n",
    "        plt.title(\"Class: \" + class_names[label_batch[i].numpy()])\n",
    "        plt.axis(\"off\")\n",
    "plt.show()"
   ]
  },
  {
   "cell_type": "code",
   "execution_count": null,
   "id": "a6b1ed8d-1b9e-46c3-82e7-4e43fc2b0ea2",
   "metadata": {},
   "outputs": [],
   "source": [
    "### END"
   ]
  },
  {
   "cell_type": "code",
   "execution_count": null,
   "id": "668b72f8-62f3-4bb0-86fd-ed340ebe64b1",
   "metadata": {},
   "outputs": [],
   "source": []
  },
  {
   "cell_type": "code",
   "execution_count": null,
   "id": "dff33f57-280b-43cf-9ead-5c49c5b2726a",
   "metadata": {},
   "outputs": [],
   "source": []
  }
 ],
 "metadata": {
  "kernelspec": {
   "display_name": "Python 3",
   "language": "python",
   "name": "python3"
  },
  "language_info": {
   "codemirror_mode": {
    "name": "ipython",
    "version": 3
   },
   "file_extension": ".py",
   "mimetype": "text/x-python",
   "name": "python",
   "nbconvert_exporter": "python",
   "pygments_lexer": "ipython3",
   "version": "3.12.7"
  }
 },
 "nbformat": 4,
 "nbformat_minor": 5
}
