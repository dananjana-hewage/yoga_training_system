{
 "cells": [
  {
   "cell_type": "code",
   "execution_count": 4,
   "id": "0ee1aa50-0043-43eb-9e90-bc9343f4511c",
   "metadata": {},
   "outputs": [
    {
     "name": "stdout",
     "output_type": "stream",
     "text": [
      "Class 'Anjaneyasana': 2240 training files, 560 testing files.\n",
      "Class 'Vrksasana': 2240 training files, 560 testing files.\n",
      "Class 'Phalakasana': 1926 training files, 482 testing files.\n",
      "Class 'Setu Bandha Sarvangasana': 1713 training files, 429 testing files.\n",
      "Class 'Virabhadrasana Two': 2240 training files, 560 testing files.\n",
      "Class 'Trikonasana': 2240 training files, 560 testing files.\n",
      "Class 'Utkatasana': 2240 training files, 560 testing files.\n",
      "Class 'Adho Mukha Svanasana': 2228 training files, 558 testing files.\n",
      "Dataset split complete.\n"
     ]
    }
   ],
   "source": [
    "import os\n",
    "import shutil\n",
    "import random\n",
    "\n",
    "def split_dataset(source_dir, train_dir, test_dir, split_ratio=0.8):\n",
    "    if not os.path.exists(source_dir):\n",
    "        print(f\"Error: Source directory '{source_dir}' does not exist.\")\n",
    "        return\n",
    "\n",
    "    os.makedirs(train_dir, exist_ok=True)\n",
    "    os.makedirs(test_dir, exist_ok=True)\n",
    "\n",
    "    # Iterate through each class folder\n",
    "    for class_name in os.listdir(source_dir):\n",
    "        class_path = os.path.join(source_dir, class_name)\n",
    "        if not os.path.isdir(class_path):  # Skip if it's not a directory\n",
    "            continue\n",
    "\n",
    "        # Create corresponding train and test directories for the class\n",
    "        train_class_dir = os.path.join(train_dir, class_name)\n",
    "        test_class_dir = os.path.join(test_dir, class_name)\n",
    "        os.makedirs(train_class_dir, exist_ok=True)\n",
    "        os.makedirs(test_class_dir, exist_ok=True)\n",
    "\n",
    "        # Get all images in the class directory\n",
    "        all_files = [f for f in os.listdir(class_path) if os.path.isfile(os.path.join(class_path, f))]\n",
    "        \n",
    "        if not all_files:\n",
    "            print(f\"Skipping empty class folder: {class_name}\")\n",
    "            continue\n",
    "        \n",
    "        # Shuffle and split the files\n",
    "        random.shuffle(all_files)\n",
    "        split_index = int(len(all_files) * split_ratio)\n",
    "        train_files = all_files[:split_index]\n",
    "        test_files = all_files[split_index:]\n",
    "\n",
    "        # Move files to respective folders\n",
    "        for file in train_files:\n",
    "            shutil.move(os.path.join(class_path, file), os.path.join(train_class_dir, file))\n",
    "        \n",
    "        for file in test_files:\n",
    "            shutil.move(os.path.join(class_path, file), os.path.join(test_class_dir, file))\n",
    "\n",
    "        print(f\"Class '{class_name}': {len(train_files)} training files, {len(test_files)} testing files.\")\n",
    "\n",
    "    print(\"Dataset split complete.\")\n",
    "\n",
    "# Example usage\n",
    "source_directory = \"Yoga_Dataset\"  # Change to your dataset folder\n",
    "train_directory = \"train\"\n",
    "test_directory = \"test\"\n",
    "\n",
    "split_dataset(source_directory, train_directory, test_directory)\n"
   ]
  },
  {
   "cell_type": "code",
   "execution_count": null,
   "id": "9bced433-12fe-4271-ac0a-157ddc5ebfbf",
   "metadata": {},
   "outputs": [],
   "source": []
  }
 ],
 "metadata": {
  "kernelspec": {
   "display_name": "Python (myenv)",
   "language": "python",
   "name": "myenv"
  },
  "language_info": {
   "codemirror_mode": {
    "name": "ipython",
    "version": 3
   },
   "file_extension": ".py",
   "mimetype": "text/x-python",
   "name": "python",
   "nbconvert_exporter": "python",
   "pygments_lexer": "ipython3",
   "version": "3.12.3"
  }
 },
 "nbformat": 4,
 "nbformat_minor": 5
}
